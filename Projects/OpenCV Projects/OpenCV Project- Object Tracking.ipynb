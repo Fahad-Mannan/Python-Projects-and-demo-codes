{
 "cells": [
  {
   "cell_type": "markdown",
   "metadata": {},
   "source": [
    "# OpenCV Project: Object Tracking\n",
    "\n",
    "### Draw rectangle on the first frame around the object which is to be tracked, and press Enter.\n",
    "### We can replace the video with web cam also for live tracking.  \n"
   ]
  },
  {
   "cell_type": "code",
   "execution_count": 2,
   "metadata": {},
   "outputs": [],
   "source": [
    "import cv2\n",
    "\n",
    "\n",
    "def drawBox(img, bbox):\n",
    "    x, y, w, h = int(bbox[0]), int(bbox[1]), int(bbox[2]), int(bbox[3])\n",
    "    cv2.rectangle(img, (x,y), (x+w, y+h), (255,0,0), 2)\n",
    "    cv2.putText(img, 'Tracking', (40,75), cv2.FONT_HERSHEY_COMPLEX, 0.7, (0,255,0), 2)\n",
    "     \n",
    "\n",
    "cap = cv2.VideoCapture(r\"D:\\Academia\\Fahad's Projects\\OpenCV\\vtest.avi\")\n",
    "\n",
    "tracker = cv2.TrackerCSRT_create()           \n",
    "success, img = cap.read()\n",
    "\n",
    "bbox = cv2.selectROI('tracking', img, False)\n",
    "tracker.init(img, bbox)\n",
    "\n",
    "while True:\n",
    "    timer = cv2.getTickCount()\n",
    "    \n",
    "    success1, img = cap.read()\n",
    "    \n",
    "    success, bbox = tracker.update(img)\n",
    "    \n",
    "    if success:\n",
    "        drawBox(img, bbox)\n",
    "    else:\n",
    "        cv2.putText(img, 'Lost', (40,75), cv2.FONT_HERSHEY_COMPLEX, 0.7, (0,0,255), 2)\n",
    "            \n",
    "    fps = cv2.getTickFrequency()/(cv2.getTickCount()-timer)\n",
    "    cv2.putText(img, 'FPS: ' + str(int(fps)), (40,50), cv2.FONT_HERSHEY_COMPLEX, 0.7, (55,255,255), 2)\n",
    "    cv2.imshow(\"tracking\", img)\n",
    "    \n",
    "    \n",
    "    \n",
    "    if cv2.waitKey(100) & 0xFF == ord('q'):\n",
    "        cv2.destroyAllWindows()\n",
    "        break \n",
    "    if success1 == False:\n",
    "        cv2.destroyAllWindows()\n",
    "        break"
   ]
  },
  {
   "cell_type": "code",
   "execution_count": null,
   "metadata": {},
   "outputs": [],
   "source": []
  }
 ],
 "metadata": {
  "kernelspec": {
   "display_name": "Python 3",
   "language": "python",
   "name": "python3"
  },
  "language_info": {
   "codemirror_mode": {
    "name": "ipython",
    "version": 3
   },
   "file_extension": ".py",
   "mimetype": "text/x-python",
   "name": "python",
   "nbconvert_exporter": "python",
   "pygments_lexer": "ipython3",
   "version": "3.8.5"
  }
 },
 "nbformat": 4,
 "nbformat_minor": 4
}
