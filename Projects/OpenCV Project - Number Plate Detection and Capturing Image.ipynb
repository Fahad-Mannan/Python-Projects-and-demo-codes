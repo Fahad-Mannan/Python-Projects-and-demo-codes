{
 "cells": [
  {
   "cell_type": "markdown",
   "metadata": {},
   "source": [
    "# OpenCV Project: Number Plate Detection and Capturing from image\n",
    "\n",
    "### For saving Number Plate Press 's'. The display will disappear automatically after 2 seconds of pressing 's'.\n"
   ]
  },
  {
   "cell_type": "code",
   "execution_count": 1,
   "metadata": {},
   "outputs": [],
   "source": [
    "import cv2\n",
    "\n",
    "minArea = 3000\n",
    "\n",
    "Image_Source_path = r\"D:\\Academia\\Fahad's Projects\\OpenCV\\Number plates\\car1.jpg\"\n",
    "Plate_Saving_path = r\"D:\\Academia\\Fahad's Projects\\OpenCV\\Number plates\\{}_plate.jpg\"\n",
    "\n",
    "plateName = Image_Source_path.split('\\\\')[-1].split('.')[0] \n",
    "\n",
    "nPlateCascade = cv2.CascadeClassifier(r'D:\\Downloads\\HaarCascade classifier files\\haarcascade_russian_plate_number.xml')\n",
    "\n",
    "img = cv2.imread(Image_Source_path)\n",
    "imgGray = cv2.cvtColor(img, cv2.COLOR_BGR2GRAY)\n",
    "plates = nPlateCascade.detectMultiScale(imgGray, 1.3, 5)\n",
    "\n",
    "for x,y,w,h in plates:\n",
    "    area = w*h\n",
    "    if area > minArea: \n",
    "        cv2.rectangle(img, (x,y), (x+w, y+h), (0,0,255), 2)\n",
    "        cv2.putText(img, 'Plate Detected', (x,y-10), cv2.FONT_HERSHEY_COMPLEX, 0.5, (255,255,255), 2)\n",
    "        imgCrop = img[y:y+h, x:x+w]\n",
    "        \n",
    "cv2.imshow('Image', img)\n",
    "cv2.imshow('Plate', imgCrop)\n",
    "\n",
    "while True:\n",
    "    if cv2.waitKey(1) & 0xFF == ord('s'):\n",
    "        cv2.imwrite(Plate_Saving_path.format(plateName), imgCrop)\n",
    "        cv2.rectangle(img, (200,10),(350,80), (255,255,0), cv2.FILLED)\n",
    "        cv2.putText(img, 'Plate Saved', (205,55), cv2.FONT_ITALIC, 0.7, (0,0,0), 2)\n",
    "        cv2.imshow('Image', img)\n",
    "        cv2.waitKey(2000)\n",
    "        cv2.destroyAllWindows()\n",
    "        break"
   ]
  },
  {
   "cell_type": "code",
   "execution_count": null,
   "metadata": {},
   "outputs": [],
   "source": []
  }
 ],
 "metadata": {
  "kernelspec": {
   "display_name": "Python 3",
   "language": "python",
   "name": "python3"
  },
  "language_info": {
   "codemirror_mode": {
    "name": "ipython",
    "version": 3
   },
   "file_extension": ".py",
   "mimetype": "text/x-python",
   "name": "python",
   "nbconvert_exporter": "python",
   "pygments_lexer": "ipython3",
   "version": "3.7.9"
  }
 },
 "nbformat": 4,
 "nbformat_minor": 4
}
